{
  "nbformat": 4,
  "nbformat_minor": 0,
  "metadata": {
    "colab": {
      "name": "Grab using pyspark",
      "provenance": []
    },
    "kernelspec": {
      "display_name": "Python 3",
      "name": "python3"
    }
  },
  "cells": [
    {
      "cell_type": "markdown",
      "metadata": {
        "id": "jCkJEk6yUUWx"
      },
      "source": [
        "**Grab Data Analysis Using Spark**"
      ]
    },
    {
      "cell_type": "code",
      "metadata": {
        "id": "HMAebElhrzwm"
      },
      "source": [
        "!apt-get install openjdk-8-jdk-headless -qq > /dev/null\r\n",
        "!wget -q https://downloads.apache.org/spark/spark-3.0.1/spark-3.0.1-bin-hadoop2.7.tgz\r\n",
        "!tar xf spark-3.0.1-bin-hadoop2.7.tgz\r\n",
        "!pip install -q findspark"
      ],
      "execution_count": null,
      "outputs": []
    },
    {
      "cell_type": "markdown",
      "metadata": {
        "id": "Y9lhEohdUSOM"
      },
      "source": [
        ""
      ]
    },
    {
      "cell_type": "code",
      "metadata": {
        "id": "BsJJINJkszBx"
      },
      "source": [
        "import os\r\n",
        "os.environ[\"JAVA_HOME\"] = \"/usr/lib/jvm/java-8-openjdk-amd64\"\r\n",
        "os.environ[\"SPARK_HOME\"] = \"/content/spark-3.0.1-bin-hadoop2.7\""
      ],
      "execution_count": null,
      "outputs": []
    },
    {
      "cell_type": "markdown",
      "metadata": {
        "id": "egIT7AT9dm5f"
      },
      "source": [
        "**Run Spark Session**"
      ]
    },
    {
      "cell_type": "code",
      "metadata": {
        "id": "JsHSVDETs32f"
      },
      "source": [
        "import findspark\r\n",
        "findspark.init()\r\n",
        "from pyspark.sql import SparkSession\r\n",
        "spark = SparkSession.builder.master(\"local[*]\").getOrCreate()"
      ],
      "execution_count": null,
      "outputs": []
    },
    {
      "cell_type": "code",
      "metadata": {
        "colab": {
          "base_uri": "https://localhost:8080/"
        },
        "id": "KV7ZIUPs1Gyj",
        "outputId": "5831e1ee-f109-4020-badf-cecac97bc9a9"
      },
      "source": [
        "!ls\r\n"
      ],
      "execution_count": null,
      "outputs": [
        {
          "output_type": "stream",
          "text": [
            "sample_data\t\t   spark-3.0.1-bin-hadoop2.7.tgz\n",
            "spark-3.0.1-bin-hadoop2.7  training.csv\n"
          ],
          "name": "stdout"
        }
      ]
    },
    {
      "cell_type": "markdown",
      "metadata": {
        "id": "GIjxkuUFeGm9"
      },
      "source": [
        "**Import modules for Linear Regression**"
      ]
    },
    {
      "cell_type": "code",
      "metadata": {
        "id": "4ZcMiKBItiNm"
      },
      "source": [
        "from pyspark.ml.feature import VectorAssembler\r\n",
        "from pyspark.ml.regression import LinearRegression\r\n",
        "from pyspark.ml.regression import RandomForestRegressor\r\n"
      ],
      "execution_count": null,
      "outputs": []
    },
    {
      "cell_type": "markdown",
      "metadata": {
        "id": "a_Wk42Kgd452"
      },
      "source": [
        "**Upload** **dataset**"
      ]
    },
    {
      "cell_type": "code",
      "metadata": {
        "id": "h3OWVmTJ3lpG"
      },
      "source": [
        "dataset = spark.read.csv('/content/training.csv',inferSchema=True, header =True)"
      ],
      "execution_count": null,
      "outputs": []
    },
    {
      "cell_type": "code",
      "metadata": {
        "id": "wBamtbVI1pji",
        "colab": {
          "base_uri": "https://localhost:8080/"
        },
        "outputId": "19f44bd2-a0d1-4b3a-b737-712f34e6ede0"
      },
      "source": [
        "dataset.printSchema()"
      ],
      "execution_count": null,
      "outputs": [
        {
          "output_type": "stream",
          "text": [
            "root\n",
            " |-- geohash6: string (nullable = true)\n",
            " |-- day: integer (nullable = true)\n",
            " |-- timestamp: string (nullable = true)\n",
            " |-- demand: double (nullable = true)\n",
            "\n"
          ],
          "name": "stdout"
        }
      ]
    },
    {
      "cell_type": "code",
      "metadata": {
        "colab": {
          "base_uri": "https://localhost:8080/"
        },
        "id": "_lRYxetDvg01",
        "outputId": "37cd0f92-384a-4c65-cb5a-e0fdc247242f"
      },
      "source": [
        "dataset.show()"
      ],
      "execution_count": null,
      "outputs": [
        {
          "output_type": "stream",
          "text": [
            "+--------+---+---------+--------------------+\n",
            "|geohash6|day|timestamp|              demand|\n",
            "+--------+---+---------+--------------------+\n",
            "|  qp03wc| 18|     20:0|0.020071790937458638|\n",
            "|  qp03pn| 10|    14:30|0.024720973824962248|\n",
            "|  qp09sw|  9|     6:15|  0.1028209630305961|\n",
            "|  qp0991| 32|      5:0| 0.08875479879512088|\n",
            "|  qp090q| 15|      4:0| 0.07446838607998965|\n",
            "|  qp03tu|  1|    12:15|0.023843140095447555|\n",
            "|  qp096d| 25|     3:30|0.007460442605732274|\n",
            "|  qp03nr| 51|    20:45|2.926078073538535E-4|\n",
            "|  qp093r| 48|     6:15| 0.05417026945027532|\n",
            "|  qp03r2|  4|    22:15| 0.12346297776239995|\n",
            "|  qp09kb| 45|     9:15|0.026177137851266564|\n",
            "|  qp03rp| 52|    11:45|  0.3594058680024252|\n",
            "|  qp03w9| 46|    12:15|  0.5141364260243876|\n",
            "|  qp096m| 34|    14:45| 0.05973996712236172|\n",
            "|  qp091u| 40|     2:30|0.026408691368504468|\n",
            "|  qp03md| 14|    14:45|0.013998466138292141|\n",
            "|  qp099z| 27|     3:30|0.008413960369765126|\n",
            "|  qp0990|  6|    23:45|0.029400141187935276|\n",
            "|  qp03mf| 48|    11:30| 0.05725490104544065|\n",
            "|  qp09fu| 17|    23:45| 0.11276151708068224|\n",
            "+--------+---+---------+--------------------+\n",
            "only showing top 20 rows\n",
            "\n"
          ],
          "name": "stdout"
        }
      ]
    },
    {
      "cell_type": "code",
      "metadata": {
        "colab": {
          "base_uri": "https://localhost:8080/"
        },
        "id": "ZfilEfwRvsWW",
        "outputId": "fca5dd89-1c7b-4946-aef8-3d58768dcbae"
      },
      "source": [
        "dataset.count()"
      ],
      "execution_count": null,
      "outputs": [
        {
          "output_type": "execute_result",
          "data": {
            "text/plain": [
              "4206321"
            ]
          },
          "metadata": {
            "tags": []
          },
          "execution_count": 32
        }
      ]
    },
    {
      "cell_type": "code",
      "metadata": {
        "colab": {
          "base_uri": "https://localhost:8080/"
        },
        "id": "0p4ZS5ISvuwi",
        "outputId": "91b528c2-6467-42e7-fd07-9f3e0df3cd7e"
      },
      "source": [
        "for col in dataset.columns:\r\n",
        "      dataset.describe([col]).show()"
      ],
      "execution_count": null,
      "outputs": [
        {
          "output_type": "stream",
          "text": [
            "+-------+--------+\n",
            "|summary|geohash6|\n",
            "+-------+--------+\n",
            "|  count| 4206321|\n",
            "|   mean|    null|\n",
            "| stddev|    null|\n",
            "|    min|  qp02yc|\n",
            "|    max|  qp0dnn|\n",
            "+-------+--------+\n",
            "\n",
            "+-------+------------------+\n",
            "|summary|               day|\n",
            "+-------+------------------+\n",
            "|  count|           4206321|\n",
            "|   mean|31.452991818741367|\n",
            "| stddev|17.682781501454198|\n",
            "|    min|                 1|\n",
            "|    max|                61|\n",
            "+-------+------------------+\n",
            "\n",
            "+-------+---------+\n",
            "|summary|timestamp|\n",
            "+-------+---------+\n",
            "|  count|  4206321|\n",
            "|   mean|     null|\n",
            "| stddev|     null|\n",
            "|    min|      0:0|\n",
            "|    max|     9:45|\n",
            "+-------+---------+\n",
            "\n",
            "+-------+--------------------+\n",
            "|summary|              demand|\n",
            "+-------+--------------------+\n",
            "|  count|             4206321|\n",
            "|   mean| 0.10509069575559664|\n",
            "| stddev| 0.15926545710403398|\n",
            "|    min|3.092217237505082...|\n",
            "|    max|                 1.0|\n",
            "+-------+--------------------+\n",
            "\n"
          ],
          "name": "stdout"
        }
      ]
    },
    {
      "cell_type": "code",
      "metadata": {
        "colab": {
          "base_uri": "https://localhost:8080/"
        },
        "id": "_LB1isz7wSil",
        "outputId": "2423b118-a511-43a8-a5b6-f298378db3a1"
      },
      "source": [
        "for col in dataset.columns:\r\n",
        "    print (col,\"\\t\" \"with null values:\",dataset.filter(dataset[col].isNull()).count())"
      ],
      "execution_count": null,
      "outputs": [
        {
          "output_type": "stream",
          "text": [
            "geohash6 \twith null values: 0\n",
            "day \twith null values: 0\n",
            "timestamp \twith null values: 0\n",
            "demand \twith null values: 0\n"
          ],
          "name": "stdout"
        }
      ]
    },
    {
      "cell_type": "code",
      "metadata": {
        "id": "2IcRUMF02qiB"
      },
      "source": [
        "pandas_df = dataset.toPandas()"
      ],
      "execution_count": null,
      "outputs": []
    },
    {
      "cell_type": "code",
      "metadata": {
        "colab": {
          "base_uri": "https://localhost:8080/",
          "height": 202
        },
        "id": "MPgjn8X23Txx",
        "outputId": "cb7c6bdb-4abf-46ca-9485-a28e94bb6531"
      },
      "source": [
        "pandas_df.head()"
      ],
      "execution_count": null,
      "outputs": [
        {
          "output_type": "execute_result",
          "data": {
            "text/html": [
              "<div>\n",
              "<style scoped>\n",
              "    .dataframe tbody tr th:only-of-type {\n",
              "        vertical-align: middle;\n",
              "    }\n",
              "\n",
              "    .dataframe tbody tr th {\n",
              "        vertical-align: top;\n",
              "    }\n",
              "\n",
              "    .dataframe thead th {\n",
              "        text-align: right;\n",
              "    }\n",
              "</style>\n",
              "<table border=\"1\" class=\"dataframe\">\n",
              "  <thead>\n",
              "    <tr style=\"text-align: right;\">\n",
              "      <th></th>\n",
              "      <th>geohash6</th>\n",
              "      <th>day</th>\n",
              "      <th>timestamp</th>\n",
              "      <th>demand</th>\n",
              "      <th>location</th>\n",
              "    </tr>\n",
              "  </thead>\n",
              "  <tbody>\n",
              "    <tr>\n",
              "      <th>0</th>\n",
              "      <td>qp03wc</td>\n",
              "      <td>18</td>\n",
              "      <td>1200</td>\n",
              "      <td>0.020072</td>\n",
              "      <td>(-5.35, 90.7)</td>\n",
              "    </tr>\n",
              "    <tr>\n",
              "      <th>1</th>\n",
              "      <td>qp03pn</td>\n",
              "      <td>10</td>\n",
              "      <td>870</td>\n",
              "      <td>0.024721</td>\n",
              "      <td>(-5.41, 90.7)</td>\n",
              "    </tr>\n",
              "    <tr>\n",
              "      <th>2</th>\n",
              "      <td>qp09sw</td>\n",
              "      <td>9</td>\n",
              "      <td>375</td>\n",
              "      <td>0.102821</td>\n",
              "      <td>(-5.33, 90.9)</td>\n",
              "    </tr>\n",
              "    <tr>\n",
              "      <th>3</th>\n",
              "      <td>qp0991</td>\n",
              "      <td>32</td>\n",
              "      <td>300</td>\n",
              "      <td>0.088755</td>\n",
              "      <td>(-5.35, 90.8)</td>\n",
              "    </tr>\n",
              "    <tr>\n",
              "      <th>4</th>\n",
              "      <td>qp090q</td>\n",
              "      <td>15</td>\n",
              "      <td>240</td>\n",
              "      <td>0.074468</td>\n",
              "      <td>(-5.41, 90.7)</td>\n",
              "    </tr>\n",
              "  </tbody>\n",
              "</table>\n",
              "</div>"
            ],
            "text/plain": [
              "  geohash6  day  timestamp    demand       location\n",
              "0   qp03wc   18       1200  0.020072  (-5.35, 90.7)\n",
              "1   qp03pn   10        870  0.024721  (-5.41, 90.7)\n",
              "2   qp09sw    9        375  0.102821  (-5.33, 90.9)\n",
              "3   qp0991   32        300  0.088755  (-5.35, 90.8)\n",
              "4   qp090q   15        240  0.074468  (-5.41, 90.7)"
            ]
          },
          "metadata": {
            "tags": []
          },
          "execution_count": 35
        }
      ]
    },
    {
      "cell_type": "code",
      "metadata": {
        "colab": {
          "base_uri": "https://localhost:8080/"
        },
        "id": "dB53KVn2yRZo",
        "outputId": "19b79c6c-f544-4c91-b289-0abb31cb0a42"
      },
      "source": [
        "!pip install pygeohash"
      ],
      "execution_count": null,
      "outputs": [
        {
          "output_type": "stream",
          "text": [
            "Collecting pygeohash\n",
            "  Downloading https://files.pythonhosted.org/packages/2c/33/c912fa4476cedcd3ed9cd25c44c163583b92d319860438e6b632f7f42d0c/pygeohash-1.2.0.tar.gz\n",
            "Building wheels for collected packages: pygeohash\n",
            "  Building wheel for pygeohash (setup.py) ... \u001b[?25l\u001b[?25hdone\n",
            "  Created wheel for pygeohash: filename=pygeohash-1.2.0-py2.py3-none-any.whl size=6162 sha256=78ecdf571b3ae193156d8af32fe31fc653be079c90395ce8a6b2888a98710641\n",
            "  Stored in directory: /root/.cache/pip/wheels/3f/5f/14/989d83a271207dda28232746d63e737a2dbd88ea7f7a9db807\n",
            "Successfully built pygeohash\n",
            "Installing collected packages: pygeohash\n",
            "Successfully installed pygeohash-1.2.0\n"
          ],
          "name": "stdout"
        }
      ]
    },
    {
      "cell_type": "code",
      "metadata": {
        "id": "C6H9EnlAyToG"
      },
      "source": [
        "import pygeohash as pgh\r\n",
        "# ...\r\n",
        "# location is a new column filled with (lat, lon) tuples\r\n",
        "pandas_df['location'] = pandas_df.apply(lambda rec: pgh.decode(rec['geohash6']), axis=1)"
      ],
      "execution_count": null,
      "outputs": []
    },
    {
      "cell_type": "code",
      "metadata": {
        "colab": {
          "base_uri": "https://localhost:8080/",
          "height": 202
        },
        "id": "GSLi5pJx5UrR",
        "outputId": "5ad8158d-37ac-4095-f67d-80ce258c57c2"
      },
      "source": [
        "pandas_df.head()"
      ],
      "execution_count": null,
      "outputs": [
        {
          "output_type": "execute_result",
          "data": {
            "text/html": [
              "<div>\n",
              "<style scoped>\n",
              "    .dataframe tbody tr th:only-of-type {\n",
              "        vertical-align: middle;\n",
              "    }\n",
              "\n",
              "    .dataframe tbody tr th {\n",
              "        vertical-align: top;\n",
              "    }\n",
              "\n",
              "    .dataframe thead th {\n",
              "        text-align: right;\n",
              "    }\n",
              "</style>\n",
              "<table border=\"1\" class=\"dataframe\">\n",
              "  <thead>\n",
              "    <tr style=\"text-align: right;\">\n",
              "      <th></th>\n",
              "      <th>geohash6</th>\n",
              "      <th>day</th>\n",
              "      <th>timestamp</th>\n",
              "      <th>demand</th>\n",
              "      <th>location</th>\n",
              "    </tr>\n",
              "  </thead>\n",
              "  <tbody>\n",
              "    <tr>\n",
              "      <th>0</th>\n",
              "      <td>qp03wc</td>\n",
              "      <td>18</td>\n",
              "      <td>1200</td>\n",
              "      <td>0.020072</td>\n",
              "      <td>(-5.35, 90.7)</td>\n",
              "    </tr>\n",
              "    <tr>\n",
              "      <th>1</th>\n",
              "      <td>qp03pn</td>\n",
              "      <td>10</td>\n",
              "      <td>870</td>\n",
              "      <td>0.024721</td>\n",
              "      <td>(-5.41, 90.7)</td>\n",
              "    </tr>\n",
              "    <tr>\n",
              "      <th>2</th>\n",
              "      <td>qp09sw</td>\n",
              "      <td>9</td>\n",
              "      <td>375</td>\n",
              "      <td>0.102821</td>\n",
              "      <td>(-5.33, 90.9)</td>\n",
              "    </tr>\n",
              "    <tr>\n",
              "      <th>3</th>\n",
              "      <td>qp0991</td>\n",
              "      <td>32</td>\n",
              "      <td>300</td>\n",
              "      <td>0.088755</td>\n",
              "      <td>(-5.35, 90.8)</td>\n",
              "    </tr>\n",
              "    <tr>\n",
              "      <th>4</th>\n",
              "      <td>qp090q</td>\n",
              "      <td>15</td>\n",
              "      <td>240</td>\n",
              "      <td>0.074468</td>\n",
              "      <td>(-5.41, 90.7)</td>\n",
              "    </tr>\n",
              "  </tbody>\n",
              "</table>\n",
              "</div>"
            ],
            "text/plain": [
              "  geohash6  day  timestamp    demand       location\n",
              "0   qp03wc   18       1200  0.020072  (-5.35, 90.7)\n",
              "1   qp03pn   10        870  0.024721  (-5.41, 90.7)\n",
              "2   qp09sw    9        375  0.102821  (-5.33, 90.9)\n",
              "3   qp0991   32        300  0.088755  (-5.35, 90.8)\n",
              "4   qp090q   15        240  0.074468  (-5.41, 90.7)"
            ]
          },
          "metadata": {
            "tags": []
          },
          "execution_count": 37
        }
      ]
    },
    {
      "cell_type": "code",
      "metadata": {
        "id": "GxyE0slj50GA"
      },
      "source": [
        "def get_min(time_str):\r\n",
        "    \"\"\"Get Seconds from time.\"\"\"\r\n",
        "    h, m = time_str.split(':')\r\n",
        "    return int(h) * 60 + int(m)\r\n",
        "\r\n",
        "pandas_df['timestamp'] = pandas_df['timestamp'].apply(get_min) "
      ],
      "execution_count": null,
      "outputs": []
    },
    {
      "cell_type": "code",
      "metadata": {
        "id": "Fx3aHifGA1oV"
      },
      "source": [
        "pandas_df.head()"
      ],
      "execution_count": null,
      "outputs": []
    },
    {
      "cell_type": "code",
      "metadata": {
        "id": "jA9r0eWl8ynn"
      },
      "source": [
        "import findspark\r\n",
        "findspark.init()\r\n",
        "\r\n",
        "import pyspark\r\n",
        "from pyspark.sql import SparkSession\r\n",
        "import pandas as pd\r\n",
        "\r\n",
        "# Create a spark session\r\n",
        "spark = SparkSession.builder.getOrCreate()\r\n",
        "\r\n",
        "# Create pandas data frame and convert it to a spark data frame \r\n",
        "spark_df = spark.createDataFrame(pandas_df)\r\n"
      ],
      "execution_count": null,
      "outputs": []
    },
    {
      "cell_type": "code",
      "metadata": {
        "id": "mgTpahND8bk_",
        "colab": {
          "base_uri": "https://localhost:8080/"
        },
        "outputId": "78a00b22-eef1-412c-d12d-a3c17045d2e6"
      },
      "source": [
        "#Input all the features in one vector column\r\n",
        "assembler = VectorAssembler(inputCols=['timestamp'], outputCol = 'Attributes')\r\n",
        "\r\n",
        "output = assembler.transform(spark_df)\r\n",
        "\r\n",
        "#Input vs Output\r\n",
        "finalized_data = output.select(\"Attributes\",\"demand\")\r\n",
        "\r\n",
        "finalized_data.show()"
      ],
      "execution_count": null,
      "outputs": [
        {
          "output_type": "stream",
          "text": [
            "+----------+--------------------+\n",
            "|Attributes|              demand|\n",
            "+----------+--------------------+\n",
            "|  [1200.0]|0.020071790937458638|\n",
            "|   [870.0]|0.024720973824962248|\n",
            "|   [375.0]|  0.1028209630305961|\n",
            "|   [300.0]| 0.08875479879512088|\n",
            "|   [240.0]| 0.07446838607998965|\n",
            "|   [735.0]|0.023843140095447555|\n",
            "|   [210.0]|0.007460442605732274|\n",
            "|  [1245.0]|2.926078073538535E-4|\n",
            "|   [375.0]| 0.05417026945027532|\n",
            "|  [1335.0]| 0.12346297776239995|\n",
            "|   [555.0]|0.026177137851266564|\n",
            "|   [705.0]|  0.3594058680024252|\n",
            "|   [735.0]|  0.5141364260243876|\n",
            "|   [885.0]| 0.05973996712236172|\n",
            "|   [150.0]|0.026408691368504468|\n",
            "|   [885.0]|0.013998466138292141|\n",
            "|   [210.0]|0.008413960369765126|\n",
            "|  [1425.0]|0.029400141187935276|\n",
            "|   [690.0]| 0.05725490104544065|\n",
            "|  [1425.0]| 0.11276151708068224|\n",
            "+----------+--------------------+\n",
            "only showing top 20 rows\n",
            "\n"
          ],
          "name": "stdout"
        }
      ]
    },
    {
      "cell_type": "markdown",
      "metadata": {
        "id": "Zt7B2jMwes95"
      },
      "source": [
        "**Split training and test data and apply Linear Regressor model**"
      ]
    },
    {
      "cell_type": "code",
      "metadata": {
        "id": "is19rYngD8Yc",
        "colab": {
          "base_uri": "https://localhost:8080/"
        },
        "outputId": "2481575f-d70c-4ba8-a422-2258bdac6dde"
      },
      "source": [
        "#Split training and testing data\r\n",
        "train_data,test_data = finalized_data.randomSplit([0.8,0.2])\r\n",
        "\r\n",
        "\r\n",
        "regressor = LinearRegression(featuresCol = 'Attributes', labelCol = 'demand')\r\n",
        "\r\n",
        "#Learn to fit the model from training set\r\n",
        "regressor = regressor.fit(train_data)\r\n",
        "\r\n",
        "#To predict the prices on testing set\r\n",
        "pred = regressor.evaluate(test_data)\r\n",
        "\r\n",
        "#Predict the model\r\n",
        "pred.predictions.show()"
      ],
      "execution_count": null,
      "outputs": [
        {
          "output_type": "stream",
          "text": [
            "+----------+--------------------+-------------------+\n",
            "|Attributes|              demand|         prediction|\n",
            "+----------+--------------------+-------------------+\n",
            "|     [0.0]|7.536689528149635E-5|0.12644843863685218|\n",
            "|     [0.0]|8.789500489955804E-5|0.12644843863685218|\n",
            "|     [0.0]|9.547689640366464E-5|0.12644843863685218|\n",
            "|     [0.0]|1.011798154584004E-4|0.12644843863685218|\n",
            "|     [0.0]|1.042189517332910...|0.12644843863685218|\n",
            "|     [0.0]|1.212815308943407...|0.12644843863685218|\n",
            "|     [0.0]|1.587190886752327...|0.12644843863685218|\n",
            "|     [0.0]|1.844611065889411...|0.12644843863685218|\n",
            "|     [0.0]|1.858734534179277E-4|0.12644843863685218|\n",
            "|     [0.0]|2.635521639096378E-4|0.12644843863685218|\n",
            "|     [0.0]|3.067740608667005E-4|0.12644843863685218|\n",
            "|     [0.0]|3.613771205550209E-4|0.12644843863685218|\n",
            "|     [0.0]| 3.64138312234956E-4|0.12644843863685218|\n",
            "|     [0.0]|3.993911007785682E-4|0.12644843863685218|\n",
            "|     [0.0]|4.375720651061483...|0.12644843863685218|\n",
            "|     [0.0]|4.621641108653507E-4|0.12644843863685218|\n",
            "|     [0.0]| 4.91786033493864E-4|0.12644843863685218|\n",
            "|     [0.0]|6.832277183508465E-4|0.12644843863685218|\n",
            "|     [0.0]|6.911691635016924E-4|0.12644843863685218|\n",
            "|     [0.0]|7.422750846864363E-4|0.12644843863685218|\n",
            "+----------+--------------------+-------------------+\n",
            "only showing top 20 rows\n",
            "\n"
          ],
          "name": "stdout"
        }
      ]
    },
    {
      "cell_type": "code",
      "metadata": {
        "id": "ieGZrAVUENDD",
        "colab": {
          "base_uri": "https://localhost:8080/"
        },
        "outputId": "96e69240-7447-45cd-866e-a28b435e390a"
      },
      "source": [
        "from pyspark.ml.evaluation import RegressionEvaluator\r\n",
        "eval = RegressionEvaluator(labelCol=\"demand\", predictionCol=\"prediction\", metricName=\"rmse\")\r\n",
        "\r\n",
        "# Root Mean Square Error\r\n",
        "rmse = eval.evaluate(pred.predictions)\r\n",
        "print(\"RMSE: %.3f\" % rmse)\r\n",
        "\r\n",
        "# Mean Square Error\r\n",
        "mse = eval.evaluate(pred.predictions, {eval.metricName: \"mse\"})\r\n",
        "print(\"MSE: %.3f\" % mse)\r\n",
        "\r\n",
        "# Mean Absolute Error\r\n",
        "mae = eval.evaluate(pred.predictions, {eval.metricName: \"mae\"})\r\n",
        "print(\"MAE: %.3f\" % mae)\r\n",
        "\r\n",
        "# r2 - coefficient of determination\r\n",
        "r2 = eval.evaluate(pred.predictions, {eval.metricName: \"r2\"})\r\n",
        "print(\"r2: %.3f\" %r2)"
      ],
      "execution_count": null,
      "outputs": [
        {
          "output_type": "stream",
          "text": [
            "RMSE: 0.158\n",
            "MSE: 0.025\n",
            "MAE: 0.096\n",
            "r2: 0.007\n"
          ],
          "name": "stdout"
        }
      ]
    }
  ]
}